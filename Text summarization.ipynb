{
 "cells": [
  {
   "cell_type": "code",
   "execution_count": 1,
   "metadata": {},
   "outputs": [
    {
     "name": "stdout",
     "output_type": "stream",
     "text": [
      "MoviePy - Writing audio in C:/Users/Dell/Pictures/audio.wav\n"
     ]
    },
    {
     "name": "stderr",
     "output_type": "stream",
     "text": [
      "                                                                                                                       \r"
     ]
    },
    {
     "name": "stdout",
     "output_type": "stream",
     "text": [
      "MoviePy - Done.\n"
     ]
    }
   ],
   "source": [
    "#converting video to audio using moviepy\n",
    "import moviepy.editor as mp\n",
    "video=mp.VideoFileClip(\"C:/Users/Dell/Pictures/video.mp4\")\n",
    "video.audio.write_audiofile(\"C:/Users/Dell/Pictures/audio.wav\")"
   ]
  },
  {
   "cell_type": "code",
   "execution_count": 2,
   "metadata": {},
   "outputs": [],
   "source": [
    "#using speech recognition txt is generated                \n",
    "import speech_recognition as sr     \n",
    "r = sr.Recognizer()\n",
    "audio = sr.AudioFile('C:/Users/Dell/Pictures/audio.wav')\n",
    "\n",
    "with audio as source:\n",
    "    audio = r.record(source)\n",
    "    #print(r.recognize_google(audio))    \n",
    "text=r.recognize_google(audio)\n"
   ]
  },
  {
   "cell_type": "code",
   "execution_count": 3,
   "metadata": {},
   "outputs": [
    {
     "data": {
      "text/plain": [
       "\"hi welcome back 2 channel here we are going to review the mirror hair fall shampoo it is probably the first time glamour Swag is reviewing a product from mirror mirror is one of the major branch of Kelvin care with majorly concentrated on hair products plus shampoo herbal powder extra mirror has foliar shampoo is one of the flagship product of mirror mirror Hair Care shampoo claims to reduce hair fall up 297 percentage giving you a stronger and healthy hair shampoo is carefully formulated with goodness of chi chi chi and whether it was thrice a Skype and deeply conditions you have now coming to the review the product has a unique designs and as you can see here and it comes in a yellow pink bottle with transparent redcap the main process of the shampoo is the ingredients used in the product some padam and sister both of these natural ingredients of follicle is a great source of vitamin especially Vitamin C that promotes hair growth by giving you a sky college both and free from damage the shampoo is the colour of mustard and has a fruity smell the shampoo is really think and B mistake it needs to be added more water for EC spreading over your hair with shampoo lenses your hair excellently taking the Greece and dirt from your hair as a product Lene it reduces hair fall in a drastic rate the size of the product I filled with pocket friendly the process of the product include good fragnance princess your skin good reduces hair fall and the natural ingredients of the shampoo some of the cons of the product includes sometimes your hair fees Overdrive and shampoo is very thick the shampoo is ideal for oil air and it reduces the oil less of the hair element Swag would like to read 3.2 out of 5 for mirror hair fall there's hope you guys like the review comment your pin in the construction and do not forget to subscribe our channel 11 12 to complete beauty guide\""
      ]
     },
     "execution_count": 3,
     "metadata": {},
     "output_type": "execute_result"
    }
   ],
   "source": [
    "text"
   ]
  },
  {
   "cell_type": "code",
   "execution_count": 4,
   "metadata": {},
   "outputs": [],
   "source": [
    "#importing needed packages for removing stopwords and tokenizing it\n",
    "import nltk \n",
    "from nltk.corpus import stopwords\n",
    "from nltk.tokenize import word_tokenize, sent_tokenize "
   ]
  },
  {
   "cell_type": "code",
   "execution_count": 5,
   "metadata": {},
   "outputs": [],
   "source": [
    "text=str(\"Hi welcome back 2 channel here we are going to review the mirror. Hair fall shampoo, it is probably the first time glamour. Swag is reviewing a product from mirror mirror is one of the major branch of Kelvin care with majorly concentrated on hair products, plus shampoo herbal powder extra mirror has foliar. Shampoo is one of the flagship product of mirror mirror Hair Care. Shampoo claims to reduce hair fall up 297 percentage, giving you a stronger and healthy hair. Shampoo is carefully formulated with goodness of chi chi chi and whether it was thrice a Skype and deeply conditions you have now coming to the review. The product has a unique designs and, as you can see here, and it comes in a yellow, pink bottle with transparent redcap, the main process of the shampoo is the ingredients used in the product. Some padam and sister. Both of these natural ingredients of follicle is a great source of vitamin, especially Vitamin C that promotes hair growth by giving you a sky college both and free from damage. The shampoo is the colour of mustard and has a fruity smell. The shampoo is really think and B mistake. It needs to be added more water for EC spreading over your hair with shampoo lenses, your hair excellently taking the Greece and dirt from your hair as a product Lene. It reduces hair fall in a drastic rate. The size of the product I filled with pocket friendly, the process of the product include good fragnance princess your skin good reduces hair fall and the natural ingredients of the shampoo, some of the cons of the product includes. Sometimes your hair fees, Overdrive and shampoo is very thick. The shampoo is ideal for oil air and it reduces the oil less of the hair element. Swag would like to read 3.2 out of 5 for mirror hair fall. There'S hope you guys. Like the review comment, your pin in the construction and do not forget to subscribe our channel 11 12 to complete beauty guide.\")"
   ]
  },
  {
   "cell_type": "code",
   "execution_count": 6,
   "metadata": {},
   "outputs": [],
   "source": [
    "# Tokenizing the text and removing stopwords\n",
    "stopWords = set(stopwords.words(\"english\")) \n",
    "words = word_tokenize(text)"
   ]
  },
  {
   "cell_type": "code",
   "execution_count": 7,
   "metadata": {},
   "outputs": [],
   "source": [
    "# Creating a frequency table to keep the score of each word \n",
    "\n",
    "freqTable = dict() \n",
    "for word in words: \n",
    "    word = word.lower() \n",
    "    if word in stopWords:\n",
    "        continue\n",
    "    if word in freqTable:\n",
    "        freqTable[word] += 1\n",
    "    else: \n",
    "        freqTable[word] = 1"
   ]
  },
  {
   "cell_type": "code",
   "execution_count": 8,
   "metadata": {},
   "outputs": [
    {
     "name": "stdout",
     "output_type": "stream",
     "text": [
      "['Hi welcome back 2 channel here we are going to review the mirror.', 'Hair fall shampoo, it is probably the first time glamour.', 'Swag is reviewing a product from mirror mirror is one of the major branch of Kelvin care with majorly concentrated on hair products, plus shampoo herbal powder extra mirror has foliar.', 'Shampoo is one of the flagship product of mirror mirror Hair Care.', 'Shampoo claims to reduce hair fall up 297 percentage, giving you a stronger and healthy hair.', 'Shampoo is carefully formulated with goodness of chi chi chi and whether it was thrice a Skype and deeply conditions you have now coming to the review.', 'The product has a unique designs and, as you can see here, and it comes in a yellow, pink bottle with transparent redcap, the main process of the shampoo is the ingredients used in the product.', 'Some padam and sister.', 'Both of these natural ingredients of follicle is a great source of vitamin, especially Vitamin C that promotes hair growth by giving you a sky college both and free from damage.', 'The shampoo is the colour of mustard and has a fruity smell.', 'The shampoo is really think and B mistake.', 'It needs to be added more water for EC spreading over your hair with shampoo lenses, your hair excellently taking the Greece and dirt from your hair as a product Lene.', 'It reduces hair fall in a drastic rate.', 'The size of the product I filled with pocket friendly, the process of the product include good fragnance princess your skin good reduces hair fall and the natural ingredients of the shampoo, some of the cons of the product includes.', 'Sometimes your hair fees, Overdrive and shampoo is very thick.', 'The shampoo is ideal for oil air and it reduces the oil less of the hair element.', 'Swag would like to read 3.2 out of 5 for mirror hair fall.', \"There'S hope you guys.\", 'Like the review comment, your pin in the construction and do not forget to subscribe our channel 11 12 to complete beauty guide.']\n"
     ]
    }
   ],
   "source": [
    "# Creating a dictionary to keep the score \n",
    "# of each sentence \n",
    "sentences = sent_tokenize(text)\n",
    "print(sentences)\n",
    "sentenceValue = dict() \n",
    "   \n",
    "for sentence in sentences: \n",
    "    for word, freq in freqTable.items(): \n",
    "        if word in sentence.lower(): \n",
    "            if sentence in sentenceValue: \n",
    "                sentenceValue[sentence] += freq \n",
    "            else: \n",
    "                sentenceValue[sentence] = freq \n",
    "   \n",
    "    sumValues = 0\n",
    "for sentence in sentenceValue: \n",
    "    sumValues += sentenceValue[sentence] "
   ]
  },
  {
   "cell_type": "code",
   "execution_count": 11,
   "metadata": {},
   "outputs": [
    {
     "name": "stdout",
     "output_type": "stream",
     "text": [
      " Swag is reviewing a product from mirror mirror is one of the major branch of Kelvin care with majorly concentrated on hair products, plus shampoo herbal powder extra mirror has foliar. Shampoo claims to reduce hair fall up 297 percentage, giving you a stronger and healthy hair. The product has a unique designs and, as you can see here, and it comes in a yellow, pink bottle with transparent redcap, the main process of the shampoo is the ingredients used in the product. It needs to be added more water for EC spreading over your hair with shampoo lenses, your hair excellently taking the Greece and dirt from your hair as a product Lene. The size of the product I filled with pocket friendly, the process of the product include good fragnance princess your skin good reduces hair fall and the natural ingredients of the shampoo, some of the cons of the product includes.\n"
     ]
    }
   ],
   "source": [
    "# Average value of a sentence from the original text \n",
    "average = int(sumValues / len(sentenceValue)) \n",
    "\n",
    "# Storing sentences into our summary. \n",
    "summary = '' \n",
    "for sentence in sentences: \n",
    "    if (sentence in sentenceValue) and (sentenceValue[sentence] > (1.2 * average)): \n",
    "        summary += \" \" + sentence \n",
    "print(summary) "
   ]
  },
  {
   "cell_type": "code",
   "execution_count": 149,
   "metadata": {},
   "outputs": [
    {
     "data": {
      "text/plain": [
       "\"hi welcome back 2 channel. here we are going to review the meera hair fall shampoo. it is probably the first time glamour Swag is reviewing a product from meera. meera is one of the major branch of Kelvin care with majorly concentrated on hair products plus shampoo herbal powder extra. meera has foliar shampoo is one of the flagship product of meera. meera Hair Care shampoo claims to reduce hair fall up 297 percentage giving you a stronger and healthy hair shampoo is carefully formulated with goodness of chi chi chi and whether it was thrice a Skype and deeply conditions you have now coming to the review. the product has a unique designs and as you can see here and it comes in a yellow pink bottle with transparent redcap. the main process of the shampoo is the ingredients used in the product some padam and sister both . these natural ingredients of follicle is a great source of vitamin .especially Vitamin C that promotes hair growth by giving you a sky college both and free from damage the shampoo is the colour of mustard and has a fruity smell. the shampoo is really think and B. mistake it needs to be added more water for EC spreading over your hair with shampoo lenses your hair excellently taking the Greece and dirt from your hair as a product Lene. it reduces hair fall in a drastic rate the size of the product I filled with pocket friendly the process of the product include good fragnance princess your skin good reduces hair fall and the natural ingredients of the shampoo some of the cons of the product includes sometimes your hair fees Overdrive and shampoo is very thick the shampoo is ideal for oil air and it reduces the oil less of the hare and Swag would like to read 3.2 out of 5 for meera hair fall there's hope you guys like the review comment your pin in the construction and do not forget to subscribe our channel 11 12 to complete beauty guide\""
      ]
     },
     "execution_count": 149,
     "metadata": {},
     "output_type": "execute_result"
    }
   ],
   "source": [
    "text"
   ]
  },
  {
   "cell_type": "code",
   "execution_count": 133,
   "metadata": {},
   "outputs": [
    {
     "data": {
      "text/plain": [
       "1884"
      ]
     },
     "execution_count": 133,
     "metadata": {},
     "output_type": "execute_result"
    }
   ],
   "source": [
    "len(text)"
   ]
  },
  {
   "cell_type": "code",
   "execution_count": 134,
   "metadata": {},
   "outputs": [
    {
     "data": {
      "text/plain": [
       "998"
      ]
     },
     "execution_count": 134,
     "metadata": {},
     "output_type": "execute_result"
    }
   ],
   "source": [
    "len(summary)"
   ]
  },
  {
   "cell_type": "code",
   "execution_count": null,
   "metadata": {},
   "outputs": [],
   "source": [
    "#drawback some sentence split dot -given by me\n",
    "#due to words pronounciation -spelling are changed (eg:mirror-meera)"
   ]
  },
  {
   "cell_type": "code",
   "execution_count": 150,
   "metadata": {},
   "outputs": [
    {
     "name": "stdout",
     "output_type": "stream",
     "text": [
      "Collecting eazymind\n",
      "  Downloading https://files.pythonhosted.org/packages/47/b8/97fbb378849970f3e806187144ef49dc0c83c4235c971ed4740bc170eb2d/eazymind-0.0.4.tar.gz\n",
      "Building wheels for collected packages: eazymind\n",
      "  Building wheel for eazymind (setup.py): started\n",
      "  Building wheel for eazymind (setup.py): finished with status 'done'\n",
      "  Stored in directory: C:\\Users\\Dell\\AppData\\Local\\pip\\Cache\\wheels\\14\\a6\\f0\\b7e176ed3b7e95f54c1686dd09a2290139dcd6c14584711135\n",
      "Successfully built eazymind\n",
      "Installing collected packages: eazymind\n",
      "Successfully installed eazymind-0.0.4\n"
     ]
    }
   ],
   "source": [
    "!pip install eazymind"
   ]
  },
  {
   "cell_type": "code",
   "execution_count": 152,
   "metadata": {},
   "outputs": [
    {
     "name": "stdout",
     "output_type": "stream",
     "text": [
      "regrettably , your key is not correct\n"
     ]
    }
   ],
   "source": [
    "from eazymind.nlp.eazysum import Summarizer\n",
    "key = \"xxxxxxxxx&sentence=Facebook%20CEO%20Mark%20Zuckerberg%2C%20left%2C%20makes%20the%20keynote%20speech%20at%20F8%2C%20the%20Facebook%26%2339%3Bs%20developer%20conference%2C%20Tuesday%2C%20April%2030%2C%202019%2C%20in%20San%20Jose%2C%20Calif.%20(AP%20Photo%2FTony%20Avelar%20)%0AFacebook%20says%20that%2C%20unlike%20its%20past%2C%20its%20future%20is%20privacy%0AA%20trader%20works%20ahead%20of%20the%20closing%20bell%20on%20the%20floor%20of%20the%20New%20York%20Stock%20Exchange%20(NYSE)%20on%20April%2012%2C%202019%20in%20New%20York%20City.%20(Photo%20by%20Johannes%20EISELE%20%2F%20AFP)%20%20%20%20%20%20%20%20(Photo%20credit%20should%20read%20JOHANNES%20EISELE%2FAFP%2FGetty%20Images)%0AResilience%20is%20still%20the%20word%20for%20stocks\"\n",
    "sentence = \"\"\"(CNN)The White House has instructed former    White House Counsel Don McGahn not to comply with a subpoena    for documents from House Judiciary Chairman Jerry Nadler,     teeing up the latest in a series of escalating oversight     showdowns between the Trump administration and congressional Democrats.      McGahn's decision not to comply     with the subpoena could push Nadler     to hold McGahn in contempt of Congress,     just as he's moving to do with Attorney General William Barr after the Justice     Department defied a subpoena for the unredacted Mueller report and underlying evidence.\"\"\"  \n",
    "summarizer = Summarizer(key)\n",
    "print(summarizer.run(sentence))"
   ]
  }
 ],
 "metadata": {
  "kernelspec": {
   "display_name": "Python 3",
   "language": "python",
   "name": "python3"
  },
  "language_info": {
   "codemirror_mode": {
    "name": "ipython",
    "version": 3
   },
   "file_extension": ".py",
   "mimetype": "text/x-python",
   "name": "python",
   "nbconvert_exporter": "python",
   "pygments_lexer": "ipython3",
   "version": "3.7.3"
  }
 },
 "nbformat": 4,
 "nbformat_minor": 2
}
